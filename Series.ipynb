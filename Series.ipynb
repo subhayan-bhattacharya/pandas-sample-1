{
 "cells": [
  {
   "cell_type": "code",
   "execution_count": 1,
   "metadata": {},
   "outputs": [],
   "source": [
    "import pandas as pd"
   ]
  },
  {
   "cell_type": "code",
   "execution_count": 2,
   "metadata": {},
   "outputs": [
    {
     "data": {
      "text/plain": [
       "0    Porsche\n",
       "1        Eon\n",
       "2     Sonata\n",
       "3    Octavia\n",
       "dtype: object"
      ]
     },
     "execution_count": 2,
     "metadata": {},
     "output_type": "execute_result"
    }
   ],
   "source": [
    "cars = [\"Porsche\", \"Eon\", \"Sonata\", \"Octavia\"]\n",
    "pd.Series(cars)"
   ]
  },
  {
   "cell_type": "code",
   "execution_count": 6,
   "metadata": {},
   "outputs": [
    {
     "data": {
      "text/plain": [
       "0    44\n",
       "1    28\n",
       "2     9\n",
       "3     2\n",
       "4    38\n",
       "5    20\n",
       "6    36\n",
       "7     3\n",
       "8    27\n",
       "9    37\n",
       "dtype: int64"
      ]
     },
     "execution_count": 6,
     "metadata": {},
     "output_type": "execute_result"
    }
   ],
   "source": [
    "import random\n",
    "integer_bank = [i for i in range(1, 51)]\n",
    "test_nums = [random.choice(integer_bank) for i in range(10)]\n",
    "pd.Series(test_nums)\n"
   ]
  },
  {
   "cell_type": "code",
   "execution_count": 10,
   "metadata": {},
   "outputs": [
    {
     "data": {
      "text/plain": [
       "Subhayan    Bhattacharya\n",
       "Shaayan     Bhattacharya\n",
       "Poulomi         Adhikary\n",
       "dtype: object"
      ]
     },
     "execution_count": 10,
     "metadata": {},
     "output_type": "execute_result"
    }
   ],
   "source": [
    "webstr = {\n",
    "    \"Subhayan\" : \"Bhattacharya\",\n",
    "    \"Shaayan\" : \"Bhattacharya\",\n",
    "    \"Poulomi\" : \"Adhikary\"\n",
    "}\n",
    "\n",
    "pd.Series(webstr)\n"
   ]
  },
  {
   "cell_type": "code",
   "execution_count": 12,
   "metadata": {},
   "outputs": [
    {
     "data": {
      "text/plain": [
       "array(['issue', 'need', 'goal', 'job', 'perform', 'you', 'agency', 'hear',\n",
       "       'teacher', 'Republican'], dtype=object)"
      ]
     },
     "execution_count": 12,
     "metadata": {},
     "output_type": "execute_result"
    }
   ],
   "source": [
    "import faker\n",
    "\n",
    "fake = faker.Faker()\n",
    "words = [fake.word() for i in range(10)]\n",
    "d = pd.Series(words)\n",
    "d.values"
   ]
  },
  {
   "cell_type": "code",
   "execution_count": 5,
   "metadata": {},
   "outputs": [
    {
     "name": "stdout",
     "output_type": "stream",
     "text": [
      "8.8\n",
      "18.989489999999996\n"
     ]
    }
   ],
   "source": [
    "import pandas as pd\n",
    "\n",
    "prices = [2.99, 4.35, 1.46]\n",
    "s = pd.Series(prices)\n",
    "print(s.sum())\n",
    "print(s.product())"
   ]
  },
  {
   "cell_type": "code",
   "execution_count": 8,
   "metadata": {},
   "outputs": [
    {
     "data": {
      "text/plain": [
       "Monday        Apple\n",
       "Tuesday      Orange\n",
       "Wednesday    Grapes\n",
       "Thursday     Banana\n",
       "Friday        Berry\n",
       "Tuesday       Mango\n",
       "dtype: object"
      ]
     },
     "execution_count": 8,
     "metadata": {},
     "output_type": "execute_result"
    }
   ],
   "source": [
    "# Demonstrates how we can use some other list as the index of a list in pandas and also an index can be a duplicate value\n",
    "# As is the case in Tuesday\n",
    "fruits = [\"Apple\", \"Orange\", \"Grapes\", \"Banana\", \"Berry\", \"Mango\"]\n",
    "weekdays = [\"Monday\", \"Tuesday\", \"Wednesday\", \"Thursday\", \"Friday\", \"Tuesday\"]\n",
    "pd.Series(fruits, weekdays)"
   ]
  },
  {
   "cell_type": "markdown",
   "metadata": {},
   "source": [
    "## A small example from the Python cookbook"
   ]
  },
  {
   "cell_type": "code",
   "execution_count": 12,
   "metadata": {},
   "outputs": [
    {
     "name": "stdout",
     "output_type": "stream",
     "text": [
      "The value got from the generator is 2\n",
      "The value got from the generator is 4\n",
      "The value got from the generator is 6\n",
      "The value got from the generator is 8\n",
      "The value got from the generator is 10\n",
      "Program ended...\n"
     ]
    }
   ],
   "source": [
    "# Just a small example of one tricks with iterators got from the book on cookbook in Python\n",
    "\n",
    "def even_no():\n",
    "    for i in range(1, 11):\n",
    "        if i % 2 == 0:\n",
    "            yield i\n",
    "\n",
    "# Consuming the iterable\n",
    "g = even_no()\n",
    "while True:\n",
    "    value = next(g, None)\n",
    "    if value is None:\n",
    "        break\n",
    "    print(f\"The value got from the generator is {value}\")\n",
    "print(\"Program ended...\")\n",
    "    "
   ]
  },
  {
   "cell_type": "markdown",
   "metadata": {},
   "source": [
    "## Introduction to the read_csv method in pandas\n"
   ]
  },
  {
   "cell_type": "code",
   "execution_count": 19,
   "metadata": {},
   "outputs": [
    {
     "data": {
      "text/plain": [
       "0       Bulbasaur\n",
       "1         Ivysaur\n",
       "2        Venusaur\n",
       "3      Charmander\n",
       "4      Charmeleon\n",
       "          ...    \n",
       "716       Yveltal\n",
       "717       Zygarde\n",
       "718       Diancie\n",
       "719         Hoopa\n",
       "720     Volcanion\n",
       "Name: Pokemon, Length: 721, dtype: object"
      ]
     },
     "execution_count": 19,
     "metadata": {},
     "output_type": "execute_result"
    }
   ],
   "source": [
    "pokemon = pd.read_csv(\"pokemon.csv\", usecols=[\"Pokemon\"], squeeze=True)\n",
    "pokemon"
   ]
  },
  {
   "cell_type": "code",
   "execution_count": 22,
   "metadata": {},
   "outputs": [
    {
     "data": {
      "text/plain": [
       "0        50.12\n",
       "1        54.10\n",
       "2        54.65\n",
       "3        52.38\n",
       "4        52.95\n",
       "         ...  \n",
       "3007    772.88\n",
       "3008    771.07\n",
       "3009    773.18\n",
       "3010    771.61\n",
       "3011    782.22\n",
       "Name: Stock Price, Length: 3012, dtype: float64"
      ]
     },
     "execution_count": 22,
     "metadata": {},
     "output_type": "execute_result"
    }
   ],
   "source": [
    "google = pd.read_csv(\"google_stock_price.csv\", squeeze=True)\n",
    "google"
   ]
  },
  {
   "cell_type": "code",
   "execution_count": null,
   "metadata": {},
   "outputs": [],
   "source": []
  }
 ],
 "metadata": {
  "kernelspec": {
   "display_name": "Python 3",
   "language": "python",
   "name": "python3"
  },
  "language_info": {
   "codemirror_mode": {
    "name": "ipython",
    "version": 3
   },
   "file_extension": ".py",
   "mimetype": "text/x-python",
   "name": "python",
   "nbconvert_exporter": "python",
   "pygments_lexer": "ipython3",
   "version": "3.7.6"
  }
 },
 "nbformat": 4,
 "nbformat_minor": 2
}
