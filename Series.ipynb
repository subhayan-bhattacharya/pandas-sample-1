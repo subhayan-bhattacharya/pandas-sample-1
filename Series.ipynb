{
 "cells": [
  {
   "cell_type": "code",
   "execution_count": 1,
   "metadata": {},
   "outputs": [],
   "source": [
    "import pandas as pd"
   ]
  },
  {
   "cell_type": "code",
   "execution_count": 2,
   "metadata": {},
   "outputs": [
    {
     "data": {
      "text/plain": [
       "0    Porsche\n",
       "1        Eon\n",
       "2     Sonata\n",
       "3    Octavia\n",
       "dtype: object"
      ]
     },
     "execution_count": 2,
     "metadata": {},
     "output_type": "execute_result"
    }
   ],
   "source": [
    "cars = [\"Porsche\", \"Eon\", \"Sonata\", \"Octavia\"]\n",
    "pd.Series(cars)"
   ]
  },
  {
   "cell_type": "code",
   "execution_count": 6,
   "metadata": {},
   "outputs": [
    {
     "data": {
      "text/plain": [
       "0    44\n",
       "1    28\n",
       "2     9\n",
       "3     2\n",
       "4    38\n",
       "5    20\n",
       "6    36\n",
       "7     3\n",
       "8    27\n",
       "9    37\n",
       "dtype: int64"
      ]
     },
     "execution_count": 6,
     "metadata": {},
     "output_type": "execute_result"
    }
   ],
   "source": [
    "import random\n",
    "integer_bank = [i for i in range(1, 51)]\n",
    "test_nums = [random.choice(integer_bank) for i in range(10)]\n",
    "pd.Series(test_nums)\n"
   ]
  },
  {
   "cell_type": "code",
   "execution_count": 10,
   "metadata": {},
   "outputs": [
    {
     "data": {
      "text/plain": [
       "Subhayan    Bhattacharya\n",
       "Shaayan     Bhattacharya\n",
       "Poulomi         Adhikary\n",
       "dtype: object"
      ]
     },
     "execution_count": 10,
     "metadata": {},
     "output_type": "execute_result"
    }
   ],
   "source": [
    "webstr = {\n",
    "    \"Subhayan\" : \"Bhattacharya\",\n",
    "    \"Shaayan\" : \"Bhattacharya\",\n",
    "    \"Poulomi\" : \"Adhikary\"\n",
    "}\n",
    "\n",
    "pd.Series(webstr)\n"
   ]
  },
  {
   "cell_type": "code",
   "execution_count": 12,
   "metadata": {},
   "outputs": [
    {
     "data": {
      "text/plain": [
       "array(['issue', 'need', 'goal', 'job', 'perform', 'you', 'agency', 'hear',\n",
       "       'teacher', 'Republican'], dtype=object)"
      ]
     },
     "execution_count": 12,
     "metadata": {},
     "output_type": "execute_result"
    }
   ],
   "source": [
    "import faker\n",
    "\n",
    "fake = faker.Faker()\n",
    "words = [fake.word() for i in range(10)]\n",
    "d = pd.Series(words)\n",
    "d.values"
   ]
  },
  {
   "cell_type": "code",
   "execution_count": 4,
   "metadata": {},
   "outputs": [
    {
     "name": "stdout",
     "output_type": "stream",
     "text": [
      "8.8\n"
     ]
    }
   ],
   "source": [
    "import pandas as pd\n",
    "\n",
    "prices = [2.99, 4.35, 1.46]\n",
    "s = pd.Series(prices)\n",
    "print(s.sum())"
   ]
  },
  {
   "cell_type": "code",
   "execution_count": null,
   "metadata": {},
   "outputs": [],
   "source": []
  }
 ],
 "metadata": {
  "kernelspec": {
   "display_name": "Python 3",
   "language": "python",
   "name": "python3"
  },
  "language_info": {
   "codemirror_mode": {
    "name": "ipython",
    "version": 3
   },
   "file_extension": ".py",
   "mimetype": "text/x-python",
   "name": "python",
   "nbconvert_exporter": "python",
   "pygments_lexer": "ipython3",
   "version": "3.7.6"
  }
 },
 "nbformat": 4,
 "nbformat_minor": 2
}
